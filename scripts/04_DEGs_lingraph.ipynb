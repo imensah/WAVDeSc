{
 "cells": [
  {
   "cell_type": "code",
   "execution_count": 2,
   "id": "90784649-67dc-4df8-a1a2-8a6b9d7c2f05",
   "metadata": {},
   "outputs": [],
   "source": [
    "import pandas as pd\n",
    "import matplotlib.pyplot as plt\n",
    "import itertools"
   ]
  },
  {
   "cell_type": "code",
   "execution_count": 3,
   "id": "f59e1cf0-1315-4800-a78c-b5318ec034b7",
   "metadata": {},
   "outputs": [],
   "source": [
    "# Load the datasets\n",
    "umi_pop12 = pd.read_csv('/home/kalamix/Desktop/performance/DEG_tables_performance/umi_pop12 .csv')\n",
    "umi_pop34 = pd.read_csv('/home/kalamix/Desktop/performance/DEG_tables_performance/umi_pop34 .csv')\n",
    "nonumi_pop12 = pd.read_csv('/home/kalamix/Desktop/performance/DEG_tables_performance/nonumi_pop12 .csv')\n",
    "nonumi_pop34 = pd.read_csv('/home/kalamix/Desktop/performance/DEG_tables_performance/nonumi_pop34 .csv')\n",
    "\n",
    "# Add a new column to each dataframe to identify the condition\n",
    "umi_pop12['Condition'] = 'UMI Pop 12'\n",
    "umi_pop34['Condition'] = 'UMI Pop 34'\n",
    "nonumi_pop12['Condition'] = 'Non-UMI Pop 12'\n",
    "nonumi_pop34['Condition'] = 'Non-UMI Pop 34'\n",
    "\n",
    "# Combine the dataframes\n",
    "combined_data = pd.concat([umi_pop12, umi_pop34, nonumi_pop12, nonumi_pop34], ignore_index=True)\n",
    "\n",
    "# Cleaning up the column names\n",
    "combined_data.columns = combined_data.columns.str.strip()"
   ]
  },
  {
   "cell_type": "code",
   "execution_count": 5,
   "id": "51a8daf1-8898-4826-aa74-d606e79491c5",
   "metadata": {},
   "outputs": [
    {
     "ename": "NameError",
     "evalue": "name 'color_map' is not defined",
     "output_type": "error",
     "traceback": [
      "\u001b[31m---------------------------------------------------------------------------\u001b[39m",
      "\u001b[31mNameError\u001b[39m                                 Traceback (most recent call last)",
      "\u001b[36mCell\u001b[39m\u001b[36m \u001b[39m\u001b[32mIn[5]\u001b[39m\u001b[32m, line 14\u001b[39m\n\u001b[32m     12\u001b[39m \u001b[38;5;66;03m# Plot each model with its unified color\u001b[39;00m\n\u001b[32m     13\u001b[39m \u001b[38;5;28;01mfor\u001b[39;00m model \u001b[38;5;129;01min\u001b[39;00m combined_data[\u001b[33m'\u001b[39m\u001b[33mModel\u001b[39m\u001b[33m'\u001b[39m].unique():\n\u001b[32m---> \u001b[39m\u001b[32m14\u001b[39m     model_color = \u001b[43mcolor_map\u001b[49m[model]\n\u001b[32m     15\u001b[39m     subset = combined_data[combined_data[\u001b[33m'\u001b[39m\u001b[33mModel\u001b[39m\u001b[33m'\u001b[39m] == model]\n\u001b[32m     16\u001b[39m     \u001b[38;5;28;01mfor\u001b[39;00m condition \u001b[38;5;129;01min\u001b[39;00m subset[\u001b[33m'\u001b[39m\u001b[33mCondition\u001b[39m\u001b[33m'\u001b[39m].unique():\n",
      "\u001b[31mNameError\u001b[39m: name 'color_map' is not defined"
     ]
    },
    {
     "data": {
      "image/png": "[encoded data removed]",
      "text/plain": [
       "<Figure size 1300x800 with 1 Axes>"
      ]
     },
     "metadata": {},
     "output_type": "display_data"
    }
   ],
   "source": [
    "# Define the metrics\n",
    "metrics = ['Precision', 'Recall', 'Specificity', 'Accuracy', 'F1 Score']\n",
    "\n",
    "# Define a color palette\n",
    "palette = itertools.cycle(plt.cm.tab10.colors)\n",
    "\n",
    "# Create a color map for each model\n",
    "/home/isabel/Desktop/Thesis_publications_researchPapers/PYTHON_P1/data for line graphcolor_map = {model: next(palette) for model in combined_data['Model'].unique()}\n",
    "\n",
    "fig, ax = plt.subplots(figsize=(13, 8))\n",
    "\n",
    "# Plot each model with its unified color\n",
    "for model in combined_data['Model'].unique():\n",
    "    model_color = color_map[model]\n",
    "    subset = combined_data[combined_data['Model'] == model]\n",
    "    for condition in subset['Condition'].unique():\n",
    "        condition_subset = subset[subset['Condition'] == condition]\n",
    "        ax.plot(metrics, condition_subset[metrics].values.flatten(), marker='o', color=model_color, label=f\"{model} - {condition}\")\n",
    "\n",
    "# Enhancing the legend\n",
    "handles, labels = ax.get_legend_handles_labels()\n",
    "by_label = dict(zip(labels, handles))\n",
    "ax.legend(by_label.values(), by_label.keys(), bbox_to_anchor=(1.05, 1), loc='upper left')\n",
    "\n",
    "# Enhancing and boldening the axes\n",
    "ax.set_title('Performance Metrics for Different Models Across Conditions', fontsize=16, fontweight='bold')\n",
    "ax.set_xlabel('Metrics', fontsize=14, fontweight='bold')\n",
    "ax.set_ylabel('Metric Value', fontsize=14, fontweight='bold')\n",
    "ax.tick_params(axis='both', which='major', labelsize=12)\n",
    "\n",
    "# Boldening and enlarging the y-axis values and x-axis labels\n",
    "for tick in ax.get_xticklabels():\n",
    "    tick.set_fontsize(14)\n",
    "    tick.set_fontweight('bold')\n",
    "\n",
    "for tick in ax.get_yticklabels():\n",
    "    tick.set_fontsize(14)\n",
    "    tick.set_fontweight('bold')\n",
    "\n",
    "ax.grid(True)\n",
    "\n",
    "plt.tight_layout()\n",
    "plt.show()\n"
   ]
  },
  {
   "cell_type": "code",
   "execution_count": null,
   "id": "0733552c-4437-4597-9190-d3b8626f098a",
   "metadata": {},
   "outputs": [],
   "source": []
  }
 ],
 "metadata": {
  "kernelspec": {
   "display_name": "Python 3 (ipykernel)",
   "language": "python",
   "name": "python3"
  },
  "language_info": {
   "codemirror_mode": {
    "name": "ipython",
    "version": 3
   },
   "file_extension": ".py",
   "mimetype": "text/x-python",
   "name": "python",
   "nbconvert_exporter": "python",
   "pygments_lexer": "ipython3",
   "version": "3.12.3"
  }
 },
 "nbformat": 4,
 "nbformat_minor": 5
}
